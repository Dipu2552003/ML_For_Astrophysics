{
 "cells": [
  {
   "cell_type": "markdown",
   "id": "e58c91a2-33f5-496b-9143-3473b65fc77f",
   "metadata": {},
   "source": [
    "# Predicting Stars, Galaxies & Quasars with ML Model\n",
    "\n",
    "---\n",
    "\n",
    "**Project ID: PSGQ0922**      \n",
    "\n",
    "**Project Name: Predicting Stars, Galaxies & Quasars with ML Model**\n",
    "\n",
    "---\n",
    "\n",
    "<center>\n",
    "<img src=\"https://chandra.harvard.edu/photo/2019/gsn069/gsn069_525.gif\" width=\"55%\">\n",
    "</center>\n"
   ]
  },
  {
   "cell_type": "markdown",
   "id": "e61490ba-5efc-4293-b498-94dc0a5a549a",
   "metadata": {},
   "source": [
    "## Workflow of this notebook\n",
    "**1)** [Introducing Dataset](#h1)      \n",
    "**2)** [Importing necessary libraries and modules for this notebook](#h2)    \n",
    "**3)** [Exploring the Dataset](#h3)      \n",
    "**4)** [Preparing data for our model](#h4)           \n",
    "**5)** [Scaling the data for our model and checking the distribution plots](#h5)   \n",
    "**6)** [Building the ML models and checking results](#h6)        \n"
   ]
  },
  {
   "cell_type": "code",
   "execution_count": null,
   "id": "015bc547-aeef-4b43-a961-62142e6b01b4",
   "metadata": {},
   "outputs": [],
   "source": []
  }
 ],
 "metadata": {
  "kernelspec": {
   "display_name": "Python 3 (ipykernel)",
   "language": "python",
   "name": "python3"
  },
  "language_info": {
   "codemirror_mode": {
    "name": "ipython",
    "version": 3
   },
   "file_extension": ".py",
   "mimetype": "text/x-python",
   "name": "python",
   "nbconvert_exporter": "python",
   "pygments_lexer": "ipython3",
   "version": "3.10.11"
  }
 },
 "nbformat": 4,
 "nbformat_minor": 5
}
